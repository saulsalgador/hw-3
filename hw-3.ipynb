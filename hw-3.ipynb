{
 "cells": [
  {
   "cell_type": "code",
   "execution_count": null,
   "id": "fe701847",
   "metadata": {},
   "outputs": [],
   "source": [
    "%matplotlib inline \n",
    "import numpy as np\n",
    "import matplotlib.pyplot as plt"
   ]
  },
  {
   "cell_type": "code",
   "execution_count": null,
   "id": "4bfd904f",
   "metadata": {},
   "outputs": [],
   "source": [
    "x = np.arange(0, 2*(np.pi) , 0.001) # x range 0 to 2pi\n",
    "y = np.arange(-1, 10,0.001)         #y range -1 to 10\n",
    "y1 = 5.5*np.cos(2*x)+5.5            #a y(x)= 5.5 cos(2 * x) + 5.5\n",
    "y2 = 0.002*np.exp(x)                #b y(x)= 0.02 * exp( x )\n",
    "y3 = 0.25*(x**2)+0.1*np.sin(10*x)   #c y(x)= 0.25 * x^2  + 0.1 sin (10 * x)\n",
    "plt.plot(x,y1)             #plot for a \n",
    "plt.plot(x,y2)             #plot for b\n",
    "plt.plot(x,y3)             #plot for c\n",
    "plt.xlabel('Time in ASTR 119”')            #label x axis\n",
    "plt.ylabel('Measures of Awesomeness')      #label y axis \n",
    "plt.show()                                 #show plot on screen"
   ]
  },
  {
   "cell_type": "code",
   "execution_count": null,
   "id": "3875eb56",
   "metadata": {},
   "outputs": [],
   "source": []
  }
 ],
 "metadata": {
  "kernelspec": {
   "display_name": "Python 3 (ipykernel)",
   "language": "python",
   "name": "python3"
  },
  "language_info": {
   "codemirror_mode": {
    "name": "ipython",
    "version": 3
   },
   "file_extension": ".py",
   "mimetype": "text/x-python",
   "name": "python",
   "nbconvert_exporter": "python",
   "pygments_lexer": "ipython3",
   "version": "3.8.2"
  }
 },
 "nbformat": 4,
 "nbformat_minor": 5
}
